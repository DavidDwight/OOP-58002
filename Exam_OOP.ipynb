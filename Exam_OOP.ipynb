{
  "nbformat": 4,
  "nbformat_minor": 0,
  "metadata": {
    "colab": {
      "name": "Exam OOP",
      "provenance": [],
      "authorship_tag": "ABX9TyOwcw6B+ecr80SH0UYD6MGu",
      "include_colab_link": true
    },
    "kernelspec": {
      "name": "python3",
      "display_name": "Python 3"
    },
    "language_info": {
      "name": "python"
    }
  },
  "cells": [
    {
      "cell_type": "markdown",
      "metadata": {
        "id": "view-in-github",
        "colab_type": "text"
      },
      "source": [
        "<a href=\"https://colab.research.google.com/github/He11oWorldss/OOP-58002/blob/main/Exam_OOP.ipynb\" target=\"_parent\"><img src=\"https://colab.research.google.com/assets/colab-badge.svg\" alt=\"Open In Colab\"/></a>"
      ]
    },
    {
      "cell_type": "markdown",
      "source": [
        "Exam\n"
      ],
      "metadata": {
        "id": "MzqZvAjLRGko"
      }
    },
    {
      "cell_type": "code",
      "execution_count": 6,
      "metadata": {
        "colab": {
          "base_uri": "https://localhost:8080/"
        },
        "id": "DEXkg62eRF3X",
        "outputId": "d1b0f3b0-b7d1-4d43-d365-7613d139ab41"
      },
      "outputs": [
        {
          "output_type": "stream",
          "name": "stdout",
          "text": [
            "My name is Dwight Matthew G David\n",
            "My student number is 202150578\n",
            "My age is 19\n",
            "My school is Adamson University\n",
            "My course is BS Computer Engineering\n"
          ]
        }
      ],
      "source": [
        "class OOP_58002:\n",
        "  def __init__ (self, lname, fname, number, age, school,course):\n",
        "      self.lname = lname\n",
        "      self.fname = fname\n",
        "      self.number = number\n",
        "      self.age = age\n",
        "      self.school = school\n",
        "      self.course = course\n",
        "\n",
        "  def studname (self):\n",
        "    return self.fname + self.lname \n",
        "  def studnum (self):\n",
        "    return self.number\n",
        "  def studage (self):\n",
        "    return self.age\n",
        "  def studschool (self):\n",
        "    return self.school\n",
        "  def studcourse (self):\n",
        "    return self.course\n",
        " \n",
        "  \n",
        "\n",
        "  def display (self):\n",
        "    print (\"My name is\", self.studname())\n",
        "    print (\"My student number is\", self.studnum())\n",
        "    print (\"My age is\", self.studage())\n",
        "    print (\"My school is\", self.studschool())\n",
        "    print (\"My course is\", self.studcourse())\n",
        " \n",
        "    \n",
        "\n",
        "student = OOP_58002 (\"David\", \"Dwight Matthew G \", \"202150578\", \"19\", \"Adamson University\", \"BS Computer Engineering\")\n",
        "student.display()"
      ]
    }
  ]
}