{
  "nbformat": 4,
  "nbformat_minor": 0,
  "metadata": {
    "colab": {
      "name": "Fundamentals of Python.ipynb",
      "provenance": [],
      "authorship_tag": "ABX9TyNrykOiZZ4LcFEdVDT3pwNO",
      "include_colab_link": true
    },
    "kernelspec": {
      "name": "python3",
      "display_name": "Python 3"
    },
    "language_info": {
      "name": "python"
    }
  },
  "cells": [
    {
      "cell_type": "markdown",
      "metadata": {
        "id": "view-in-github",
        "colab_type": "text"
      },
      "source": [
        "<a href=\"https://colab.research.google.com/github/He11oWorldss/OOP-58002/blob/main/Fundamentals_of_Python.ipynb\" target=\"_parent\"><img src=\"https://colab.research.google.com/assets/colab-badge.svg\" alt=\"Open In Colab\"/></a>"
      ]
    },
    {
      "cell_type": "markdown",
      "source": [
        "#Fundamentals of Python"
      ],
      "metadata": {
        "id": "0N14ZK8eJKNt"
      }
    },
    {
      "cell_type": "markdown",
      "source": [
        "Python Identation"
      ],
      "metadata": {
        "id": "yJGEVdqAJqVW"
      }
    },
    {
      "cell_type": "code",
      "source": [
        "if 5>2:\n",
        "  print(\"Yes\")"
      ],
      "metadata": {
        "colab": {
          "base_uri": "https://localhost:8080/"
        },
        "id": "I3NU3-xhJaOK",
        "outputId": "e3a563fd-429a-4835-a98f-4f449a398c10"
      },
      "execution_count": 2,
      "outputs": [
        {
          "output_type": "stream",
          "name": "stdout",
          "text": [
            "Yes\n"
          ]
        }
      ]
    },
    {
      "cell_type": "markdown",
      "source": [
        "Python Comments"
      ],
      "metadata": {
        "id": "7Z0QWe9dKMal"
      }
    },
    {
      "cell_type": "code",
      "source": [
        "#This is a comment\n",
        "print(\"Hello, World\")"
      ],
      "metadata": {
        "colab": {
          "base_uri": "https://localhost:8080/"
        },
        "id": "3fUAzZ8mKP7q",
        "outputId": "0404b616-116c-49a6-b06b-83ac102c10aa"
      },
      "execution_count": 3,
      "outputs": [
        {
          "output_type": "stream",
          "name": "stdout",
          "text": [
            "Hello, World\n"
          ]
        }
      ]
    },
    {
      "cell_type": "code",
      "source": [
        ""
      ],
      "metadata": {
        "id": "9QrI2UkdKVsl"
      },
      "execution_count": null,
      "outputs": []
    },
    {
      "cell_type": "markdown",
      "source": [
        "Python Variable"
      ],
      "metadata": {
        "id": "GIf0WFRaLO17"
      }
    },
    {
      "cell_type": "code",
      "source": [
        "x =\"Sally\"\n",
        "\n",
        "a=0\n",
        "a,b,c=0,1,2\n",
        "\n",
        "print(x)\n",
        "print(a)\n",
        "print(b)\n",
        "print(c)\n",
        "print(a,b,c)"
      ],
      "metadata": {
        "colab": {
          "base_uri": "https://localhost:8080/"
        },
        "id": "YOdNcVfHLR8A",
        "outputId": "f60271a1-b702-48ca-91bc-0cd179e22785"
      },
      "execution_count": 14,
      "outputs": [
        {
          "output_type": "stream",
          "name": "stdout",
          "text": [
            "Sally\n",
            "0\n",
            "1\n",
            "2\n",
            "0 1 2\n"
          ]
        }
      ]
    },
    {
      "cell_type": "code",
      "source": [
        ""
      ],
      "metadata": {
        "id": "rfmkVMMzLinG"
      },
      "execution_count": null,
      "outputs": []
    },
    {
      "cell_type": "markdown",
      "source": [
        "Casting"
      ],
      "metadata": {
        "id": "yFq34OrULvNF"
      }
    },
    {
      "cell_type": "code",
      "source": [
        "d=4\n",
        "d=int(4)\n",
        "print(d)"
      ],
      "metadata": {
        "colab": {
          "base_uri": "https://localhost:8080/"
        },
        "id": "96mFQrZoLwGs",
        "outputId": "6b7718cc-f3fa-4125-a00d-78101b201ddb"
      },
      "execution_count": 6,
      "outputs": [
        {
          "output_type": "stream",
          "name": "stdout",
          "text": [
            "4\n"
          ]
        }
      ]
    },
    {
      "cell_type": "markdown",
      "source": [
        "Type() Function"
      ],
      "metadata": {
        "id": "RYCY7avNL9Nu"
      }
    },
    {
      "cell_type": "code",
      "source": [
        "d=4\n",
        "d=int(4)\n",
        "print(type(d))"
      ],
      "metadata": {
        "colab": {
          "base_uri": "https://localhost:8080/"
        },
        "id": "oCgcIA8vMEja",
        "outputId": "b8f24ddf-0ed4-41a9-8029-6fe931923c69"
      },
      "execution_count": 8,
      "outputs": [
        {
          "output_type": "stream",
          "name": "stdout",
          "text": [
            "<class 'int'>\n"
          ]
        }
      ]
    },
    {
      "cell_type": "markdown",
      "source": [
        "Double quotes and single quotes"
      ],
      "metadata": {
        "id": "UMOyjIJCMfks"
      }
    },
    {
      "cell_type": "code",
      "source": [
        "#y=\"Ana\"\n",
        "#print(y)\n",
        "\n",
        "y='Ana'\n",
        "Y=\"Robert\"\n",
        "print(y)\n",
        "print(Y)"
      ],
      "metadata": {
        "colab": {
          "base_uri": "https://localhost:8080/"
        },
        "id": "44v-1ATAMjtL",
        "outputId": "c0cc5a79-5b64-4fd5-e4ec-47fe30dd86a3"
      },
      "execution_count": 12,
      "outputs": [
        {
          "output_type": "stream",
          "name": "stdout",
          "text": [
            "Ana\n",
            "Robert\n"
          ]
        }
      ]
    },
    {
      "cell_type": "markdown",
      "source": [
        "Multiple Variable with one value"
      ],
      "metadata": {
        "id": "CdZOKAifNLjo"
      }
    },
    {
      "cell_type": "code",
      "source": [
        "#x=\"Tony\"\n",
        "k=l=m=\"four\"\n",
        "print(k)\n",
        "print(l)\n",
        "print(m)\n",
        "print(k,l,m)"
      ],
      "metadata": {
        "colab": {
          "base_uri": "https://localhost:8080/"
        },
        "id": "HYO0NaJqNPMO",
        "outputId": "1de18fef-2182-41e9-c0c1-226f3f061cdf"
      },
      "execution_count": 17,
      "outputs": [
        {
          "output_type": "stream",
          "name": "stdout",
          "text": [
            "four\n",
            "four\n",
            "four\n",
            "four four four\n"
          ]
        }
      ]
    },
    {
      "cell_type": "markdown",
      "source": [
        "Output Variable"
      ],
      "metadata": {
        "id": "k3-n8QNTONfU"
      }
    },
    {
      "cell_type": "code",
      "source": [
        "print(\"Python programming is enjoying\")\n",
        "h=\"enjoying\"\n",
        "p=\"Python programming is\"\n",
        "print(\"Python programming is\"+h)\n",
        "print(p+\"  \"+\"  \"+h)"
      ],
      "metadata": {
        "colab": {
          "base_uri": "https://localhost:8080/"
        },
        "id": "dLhx5u6zOPm9",
        "outputId": "d4eddaad-f117-43d1-e3b2-31230b003de0"
      },
      "execution_count": 28,
      "outputs": [
        {
          "output_type": "stream",
          "name": "stdout",
          "text": [
            "Python programming is enjoying\n",
            "Python programming isenjoying\n",
            "Python programming is    enjoying\n"
          ]
        }
      ]
    },
    {
      "cell_type": "markdown",
      "source": [
        "Arithmetic Operation"
      ],
      "metadata": {
        "id": "Eggacz2DP5pT"
      }
    },
    {
      "cell_type": "code",
      "source": [
        "print(c+d) #c=2, d=4\n",
        "print(d-c)\n",
        "print(d*c)\n",
        "print(d/c)\n",
        "print(d%c)\n",
        "print(3/2)   #1.50\n",
        "print(d**c)\n"
      ],
      "metadata": {
        "colab": {
          "base_uri": "https://localhost:8080/"
        },
        "id": "d0XzbcIQP8IW",
        "outputId": "a1000a59-379e-4222-c3c3-8f45b4078390"
      },
      "execution_count": 34,
      "outputs": [
        {
          "output_type": "stream",
          "name": "stdout",
          "text": [
            "6\n",
            "2\n",
            "8\n",
            "2.0\n",
            "0\n",
            "1.5\n",
            "16\n"
          ]
        }
      ]
    },
    {
      "cell_type": "markdown",
      "source": [
        "Assignment Operators"
      ],
      "metadata": {
        "id": "90QzXcGcQ8GY"
      }
    },
    {
      "cell_type": "code",
      "source": [
        "q=10\n",
        "q+=5 #same as q=q+5\n",
        "print(q) #same as q=q+5, q=10+5=15"
      ],
      "metadata": {
        "colab": {
          "base_uri": "https://localhost:8080/"
        },
        "id": "S0v4RxDnQ92q",
        "outputId": "876a33a7-2a10-44d2-8dec-1468153f88ff"
      },
      "execution_count": 36,
      "outputs": [
        {
          "output_type": "stream",
          "name": "stdout",
          "text": [
            "15\n"
          ]
        }
      ]
    },
    {
      "cell_type": "markdown",
      "source": [
        "Boolean Logic"
      ],
      "metadata": {
        "id": "r3E3kGlQR0Py"
      }
    },
    {
      "cell_type": "code",
      "source": [
        "s=10\n",
        "print(s^2) \n",
        "print(s|2)"
      ],
      "metadata": {
        "colab": {
          "base_uri": "https://localhost:8080/"
        },
        "id": "43PN42PxR3EU",
        "outputId": "5bad6268-3cac-41c4-f5ff-a46e601e2de5"
      },
      "execution_count": 41,
      "outputs": [
        {
          "output_type": "stream",
          "name": "stdout",
          "text": [
            "8\n",
            "10\n"
          ]
        }
      ]
    },
    {
      "cell_type": "markdown",
      "source": [
        "Comparison Operators"
      ],
      "metadata": {
        "id": "Qcq1s2S2S_t_"
      }
    },
    {
      "cell_type": "code",
      "source": [
        "print(s>10)\n",
        "print(s==s)\n",
        "print(q==s)"
      ],
      "metadata": {
        "colab": {
          "base_uri": "https://localhost:8080/"
        },
        "id": "TyWGoaOfTCSh",
        "outputId": "bfe0a55e-3595-4975-dac5-f6334409fa91"
      },
      "execution_count": 43,
      "outputs": [
        {
          "output_type": "stream",
          "name": "stdout",
          "text": [
            "False\n",
            "True\n",
            "False\n"
          ]
        }
      ]
    },
    {
      "cell_type": "markdown",
      "source": [
        "Logical Operators"
      ],
      "metadata": {
        "id": "Erow9ZQrTmQa"
      }
    },
    {
      "cell_type": "code",
      "source": [
        "s>q and s==s #False\n",
        "s>q or s==s #True\n",
        "\n",
        "print(s>q and s==s)\n",
        "print(s>q or s==s)"
      ],
      "metadata": {
        "colab": {
          "base_uri": "https://localhost:8080/"
        },
        "id": "TJQ4eUdtToat",
        "outputId": "523a2bcc-e3fd-4433-9e8e-28f62855905f"
      },
      "execution_count": 46,
      "outputs": [
        {
          "output_type": "stream",
          "name": "stdout",
          "text": [
            "False\n",
            "True\n"
          ]
        }
      ]
    },
    {
      "cell_type": "markdown",
      "source": [
        "Identity Operators"
      ],
      "metadata": {
        "id": "ZbI0QqWrUYEX"
      }
    },
    {
      "cell_type": "code",
      "source": [
        "s is q\n",
        "print(s is not q)"
      ],
      "metadata": {
        "colab": {
          "base_uri": "https://localhost:8080/"
        },
        "id": "JRgA__r-UZ8P",
        "outputId": "ce6884f7-b466-44c0-8e36-66648b36c003"
      },
      "execution_count": 48,
      "outputs": [
        {
          "output_type": "stream",
          "name": "stdout",
          "text": [
            "True\n"
          ]
        }
      ]
    },
    {
      "cell_type": "markdown",
      "source": [
        "Bitwise Operator Shift right"
      ],
      "metadata": {
        "id": "ZLn8xf0IUv9V"
      }
    },
    {
      "cell_type": "code",
      "source": [
        "u=2 #0001\n",
        "\n",
        "print (u<<1)\n",
        "\n",
        "g=10\n",
        "print(g<<1)"
      ],
      "metadata": {
        "colab": {
          "base_uri": "https://localhost:8080/"
        },
        "id": "JpJ1ZYL6U04r",
        "outputId": "9b11bad9-9ee3-42b4-b52f-59b55bb2e745"
      },
      "execution_count": 53,
      "outputs": [
        {
          "output_type": "stream",
          "name": "stdout",
          "text": [
            "4\n",
            "20\n"
          ]
        }
      ]
    },
    {
      "cell_type": "code",
      "source": [
        ""
      ],
      "metadata": {
        "id": "jv9fvU2kMLP0"
      },
      "execution_count": null,
      "outputs": []
    }
  ]
}