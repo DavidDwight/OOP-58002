{
  "nbformat": 4,
  "nbformat_minor": 0,
  "metadata": {
    "colab": {
      "name": "GUI Application",
      "provenance": [],
      "authorship_tag": "ABX9TyPLXaCzcpVxenFJIwFVU1rv",
      "include_colab_link": true
    },
    "kernelspec": {
      "name": "python3",
      "display_name": "Python 3"
    },
    "language_info": {
      "name": "python"
    }
  },
  "cells": [
    {
      "cell_type": "markdown",
      "metadata": {
        "id": "view-in-github",
        "colab_type": "text"
      },
      "source": [
        "<a href=\"https://colab.research.google.com/github/He11oWorldss/OOP-58002/blob/main/GUI_Application.ipynb\" target=\"_parent\"><img src=\"https://colab.research.google.com/assets/colab-badge.svg\" alt=\"Open In Colab\"/></a>"
      ]
    },
    {
      "cell_type": "markdown",
      "source": [
        "GUI Applicatiion"
      ],
      "metadata": {
        "id": "S_uMyjZNdz1f"
      }
    },
    {
      "cell_type": "code",
      "execution_count": 9,
      "metadata": {
        "id": "cIoEUWBCdmWM",
        "colab": {
          "base_uri": "https://localhost:8080/"
        },
        "outputId": "b8e3ad9a-f4b7-4674-9fe5-28e4b5090bea"
      },
      "outputs": [
        {
          "output_type": "stream",
          "name": "stdout",
          "text": [
            "The semestral grade of the student is 88\n",
            "male\n",
            "My Birthday is 2002-04-15\n"
          ]
        }
      ],
      "source": [
        "#@title Student's Grade in OOP\n",
        "\n",
        "Student_Name=\"Dwight Matthew G. David\" #@param{type:\"string\"}\n",
        "Prelim_grade=90 #@param{type:\"number\"}\n",
        "Midterm_grade=85 #@param{type:\"number\"}\n",
        "Final_grade=90 #@param{type:\"number\"}\n",
        "semestral=(Prelim_grade*0.30+Midterm_grade*0.30+Final_grade*0.4)\n",
        "\n",
        "print(\"The semestral grade of the student is \"+str(round(semestral)))\n",
        "\n",
        "Gender=\"male\" #@param{\"male\", \"female\"}\n",
        "Birthdate=\"2002-04-15\" #@param{tyoe:\"date\"}\n",
        "print(Gender)\n",
        "print(\"My Birthday is \" +Birthdate)\n"
      ]
    }
  ]
}