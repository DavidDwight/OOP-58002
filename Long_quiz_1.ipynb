{
  "nbformat": 4,
  "nbformat_minor": 0,
  "metadata": {
    "colab": {
      "name": "Long quiz 1.ipynb",
      "provenance": [],
      "authorship_tag": "ABX9TyMasCmAyFSh1UALsHlw0Egk",
      "include_colab_link": true
    },
    "kernelspec": {
      "name": "python3",
      "display_name": "Python 3"
    },
    "language_info": {
      "name": "python"
    }
  },
  "cells": [
    {
      "cell_type": "markdown",
      "metadata": {
        "id": "view-in-github",
        "colab_type": "text"
      },
      "source": [
        "<a href=\"https://colab.research.google.com/github/He11oWorldss/OOP-58002/blob/main/Long_quiz_1.ipynb\" target=\"_parent\"><img src=\"https://colab.research.google.com/assets/colab-badge.svg\" alt=\"Open In Colab\"/></a>"
      ]
    },
    {
      "cell_type": "code",
      "execution_count": 1,
      "metadata": {
        "colab": {
          "base_uri": "https://localhost:8080/"
        },
        "id": "t79c6PawwWlf",
        "outputId": "c188c067-416a-4101-bc2b-7c3c9f56b79f"
      },
      "outputs": [
        {
          "output_type": "stream",
          "name": "stdout",
          "text": [
            "23\n",
            "The fahrenheit is 73.4\n"
          ]
        }
      ],
      "source": [
        "class Temperature():\n",
        "  def __init__(self, Celsius):\n",
        "    self.Celsius = int (Celsius)\n",
        "\n",
        "  def fahrenheit (self):\n",
        "    return self.Celsius * 9/5 +32\n",
        "\n",
        "  def display (self):\n",
        "    print (\"The fahrenheit is\", self.fahrenheit())\n",
        "\n",
        "hello = Temperature (input())\n",
        "hello.display()"
      ]
    }
  ]
}