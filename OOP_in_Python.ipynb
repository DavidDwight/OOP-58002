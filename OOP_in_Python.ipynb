{
  "nbformat": 4,
  "nbformat_minor": 0,
  "metadata": {
    "colab": {
      "name": "OOP in Python.ipynb",
      "provenance": [],
      "authorship_tag": "ABX9TyPudc4y6aSwobuDGprw7Ccz",
      "include_colab_link": true
    },
    "kernelspec": {
      "name": "python3",
      "display_name": "Python 3"
    },
    "language_info": {
      "name": "python"
    }
  },
  "cells": [
    {
      "cell_type": "markdown",
      "metadata": {
        "id": "view-in-github",
        "colab_type": "text"
      },
      "source": [
        "<a href=\"https://colab.research.google.com/github/He11oWorldss/OOP-58002/blob/main/OOP_in_Python.ipynb\" target=\"_parent\"><img src=\"https://colab.research.google.com/assets/colab-badge.svg\" alt=\"Open In Colab\"/></a>"
      ]
    },
    {
      "cell_type": "markdown",
      "source": [
        "**Creating a Class**"
      ],
      "metadata": {
        "id": "NjZC0-PzGmjq"
      }
    },
    {
      "cell_type": "code",
      "execution_count": 1,
      "metadata": {
        "id": "6beipQFYGiPL"
      },
      "outputs": [],
      "source": [
        "class MyClass:\n",
        "  pass\n",
        "\n",
        "#to create a class without method"
      ]
    },
    {
      "cell_type": "code",
      "source": [
        "class MyClass:\n",
        "  x = 20"
      ],
      "metadata": {
        "id": "zhk5R0CdGuqr"
      },
      "execution_count": 2,
      "outputs": []
    },
    {
      "cell_type": "markdown",
      "source": [
        "**Demonstration**"
      ],
      "metadata": {
        "id": "BCrMWaSKGwLF"
      }
    },
    {
      "cell_type": "code",
      "source": [
        "class Car:\n",
        "  def __init__(self, name, color):\n",
        "      self.name = name\n",
        "      self.color = color\n",
        "\n",
        "  def description (self):\n",
        "    return \"the \" + (self.name) + \" car is \" + (self.color)\n",
        "\n",
        "  def display (self):\n",
        "    print (\"We can say that\", self.description())\n",
        "\n",
        "obj1 = Car (\"Honda\", \"blue\")\n",
        "obj1.display()"
      ],
      "metadata": {
        "colab": {
          "base_uri": "https://localhost:8080/"
        },
        "id": "uYDH70dOGznS",
        "outputId": "81ede648-ad85-4472-a872-b2b27506bb13"
      },
      "execution_count": 3,
      "outputs": [
        {
          "output_type": "stream",
          "name": "stdout",
          "text": [
            "We can say that the Honda car is blue\n"
          ]
        }
      ]
    },
    {
      "cell_type": "code",
      "source": [
        "# Modifying an Object Property\n",
        "\n",
        "obj1.name = \"Mitsubishi\"\n",
        "print (obj1.name)"
      ],
      "metadata": {
        "colab": {
          "base_uri": "https://localhost:8080/"
        },
        "id": "8UyWEHl-G2KQ",
        "outputId": "aa50849b-8ccd-44a9-daba-08085c55b2f4"
      },
      "execution_count": 4,
      "outputs": [
        {
          "output_type": "stream",
          "name": "stdout",
          "text": [
            "Mitsubishi\n"
          ]
        }
      ]
    },
    {
      "cell_type": "code",
      "source": [
        "# Deleting the object\n",
        "\n",
        "del obj1.color"
      ],
      "metadata": {
        "id": "YxnOLqfWG66U"
      },
      "execution_count": 5,
      "outputs": []
    },
    {
      "cell_type": "markdown",
      "source": [
        "**Application1**"
      ],
      "metadata": {
        "id": "EK8tPW-FG-hK"
      }
    },
    {
      "cell_type": "markdown",
      "source": [
        "Write a program to compute the area and perimeter of a rectangle."
      ],
      "metadata": {
        "id": "o0wJGCM_HGDo"
      }
    },
    {
      "cell_type": "code",
      "source": [
        "class Rectangle:\n",
        "  def __init__(self, length, width):\n",
        "      self.length = length\n",
        "      self.width = width\n",
        "  \n",
        "  def Area (self):\n",
        "    return self.length * self.width\n",
        "\n",
        "  def Perimeter (self):\n",
        "    return 2 * (self.length + self.width)\n",
        "\n",
        "  def display (self):\n",
        "    print (\"The area of the rectangle is\", self.Area())\n",
        "    print (\"The perimeter of the rectangle is\", self.Perimeter())\n",
        "  \n",
        "pol = Rectangle (7 , 4.5)\n",
        "pol.display()"
      ],
      "metadata": {
        "colab": {
          "base_uri": "https://localhost:8080/"
        },
        "id": "5ZwkFZg3HECO",
        "outputId": "b67b246b-6af9-49c1-dee8-2963685afac4"
      },
      "execution_count": 6,
      "outputs": [
        {
          "output_type": "stream",
          "name": "stdout",
          "text": [
            "The area of the rectangle is 31.5\n",
            "The perimeter of the rectangle is 23.0\n"
          ]
        }
      ]
    },
    {
      "cell_type": "markdown",
      "source": [
        "**Application2**"
      ],
      "metadata": {
        "id": "hjrhjG8oHQjg"
      }
    },
    {
      "cell_type": "markdown",
      "source": [
        "Write a program to display a class name OOP_58001 with your student number and full name."
      ],
      "metadata": {
        "id": "G66F7AylHVTM"
      }
    },
    {
      "cell_type": "code",
      "source": [
        "class OOP_58001:\n",
        "  def __init__(self, lname, fname, number):\n",
        "      self.lname = lname\n",
        "      self.fname = fname\n",
        "      self.number = number\n",
        "\n",
        "  def studname (self):\n",
        "    return self.fname + self.lname \n",
        "\n",
        "  def studnum (self):\n",
        "    return self.number\n",
        "\n",
        "  def display (self):\n",
        "    print (\"My name is\", self.studname())\n",
        "    print (\"My student number is\", self.studnum())\n",
        "\n",
        "student = OOP_58001 (\"David\", \"Dwight Matthew G \", \"202150578\")\n",
        "student.display()"
      ],
      "metadata": {
        "colab": {
          "base_uri": "https://localhost:8080/"
        },
        "id": "TBxuc6ZPHLpI",
        "outputId": "00dab544-44d9-45e1-e3f9-cd0a7fb36c0f"
      },
      "execution_count": 7,
      "outputs": [
        {
          "output_type": "stream",
          "name": "stdout",
          "text": [
            "My name is Dwight Matthew G David\n",
            "My student number is 202150578\n"
          ]
        }
      ]
    }
  ]
}